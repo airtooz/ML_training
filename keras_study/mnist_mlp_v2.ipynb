{
 "cells": [
  {
   "cell_type": "markdown",
   "metadata": {},
   "source": [
    "# Keras Training : Multi-Layer-Perception(MLP) on MNIST dataset _ using functional API"
   ]
  },
  {
   "cell_type": "markdown",
   "metadata": {},
   "source": [
    "## Import Libraries"
   ]
  },
  {
   "cell_type": "code",
   "execution_count": 20,
   "metadata": {},
   "outputs": [],
   "source": [
    "import keras\n",
    "from keras.utils import to_categorical\n",
    "\n",
    "# Can plot model and save it.\n",
    "from keras.utils import plot_model\n",
    "from keras.datasets import mnist\n",
    "\n",
    "# keras.model have two main types of models: Sequential and the Model class using functional API\n",
    "# we will focus on the functional API model in this notebook\n",
    "from keras.models import Model\n",
    "\n",
    "# Dense: fully connected layer\n",
    "# Activation: activation function such as relu,sigmoid,softmax...(look up Keras docs for more)\n",
    "from keras.layers import Input, Dense, Activation, Dropout\n",
    "\n",
    "# Many optimizers can be chosen: Adagrad, RMSprop, SGD...(look up Keras docs for more)\n",
    "from keras.optimizers import Adagrad, RMSprop, SGD\n",
    "import numpy as np\n",
    "import matplotlib.pyplot as plt\n",
    "\n",
    "# In order to save and load model\n",
    "import h5py\n",
    "from keras.models import load_model"
   ]
  },
  {
   "cell_type": "markdown",
   "metadata": {},
   "source": [
    "## Useful parameters"
   ]
  },
  {
   "cell_type": "code",
   "execution_count": 2,
   "metadata": {},
   "outputs": [],
   "source": [
    "# 10 classes\n",
    "num_class = 10\n",
    "\n",
    "# Image size: 28*28 \n",
    "image_size_flat = 784\n",
    "\n",
    "# Training batch size, default is 32\n",
    "batch = 64\n",
    "\n",
    "# Training epochs\n",
    "epoch = 10"
   ]
  },
  {
   "cell_type": "markdown",
   "metadata": {},
   "source": [
    "## Load MNIST dataset (Also preprocessing it!)"
   ]
  },
  {
   "cell_type": "code",
   "execution_count": 3,
   "metadata": {},
   "outputs": [],
   "source": [
    "(x_train, y_train),(x_test, y_test) = mnist.load_data()\n",
    "\n",
    "x_train_flat = x_train.reshape(-1,image_size_flat)\n",
    "x_train_flat = x_train_flat.astype('float32')\n",
    "x_train_flat /= 255.0\n",
    "\n",
    "x_test_flat = x_test.reshape(-1,image_size_flat)\n",
    "x_test_flat = x_test_flat.astype('float32')\n",
    "x_test_flat /= 255.0\n",
    "\n",
    "y_train_onehot = to_categorical(y_train, num_classes = num_class)\n",
    "y_test_onehot = to_categorical(y_test, num_classes = num_class)"
   ]
  },
  {
   "cell_type": "markdown",
   "metadata": {},
   "source": [
    "## Define useful methods (draw_image and draw_prob from version1)"
   ]
  },
  {
   "cell_type": "code",
   "execution_count": 4,
   "metadata": {},
   "outputs": [],
   "source": [
    "def draw_image(images, y_label, y_pred = None):\n",
    "    \n",
    "    assert(len(images) == len(y_label) == 9)\n",
    "    \n",
    "    fig, axes = plt.subplots(3,3)\n",
    "    for i, ax in enumerate(axes.flat):\n",
    "        ax.imshow(images[i].reshape(28,28), cmap = 'binary')\n",
    "        \n",
    "        if y_pred is None:\n",
    "            ax.set_xlabel(\"True: \"+str(y_label[i]))\n",
    "        else:\n",
    "            ax.set_xlabel(\"True: \"+str(y_label[i])+\"  Pred: \"+str(y_pred[i]))\n",
    "        \n",
    "        ax.set_xticks([])\n",
    "        ax.set_yticks([])\n",
    "    \n",
    "    plt.show()"
   ]
  },
  {
   "cell_type": "code",
   "execution_count": 5,
   "metadata": {},
   "outputs": [],
   "source": [
    "def draw_prob(images, y_label, y_prob):\n",
    "    \n",
    "    assert(len(images) == len(y_label) == 9)\n",
    "    labels = [0,1,2,3,4,5,6,7,8,9]\n",
    "    \n",
    "    fig, axes = plt.subplots(9,2,figsize=(10, 20))\n",
    "    fig.subplots_adjust(hspace=1.0, wspace=0.3)\n",
    "    \n",
    "    for i, ax in enumerate(axes.flat):\n",
    "        if i%2 == 0:\n",
    "            ax.imshow(images[int(i/2)].reshape(28,28), cmap = 'binary')\n",
    "            ax.set_xlabel(\"True: \"+str(y_label[int(i/2)]))\n",
    "            ax.set_xticks([])\n",
    "            ax.set_yticks([])\n",
    "        else:\n",
    "            index = int((i-1)/2)\n",
    "            y_pos = np.arange(5)  # Show five top probabilities\n",
    "            ans = y_label[index]  # The answer of the current image\n",
    "            probs = y_prob[index]  # List of probabilities\n",
    "            prob_result = zip(labels,probs) # (label,prob) list\n",
    "            prob_result_sorted = sorted(prob_result, key = lambda tup: tup[1], reverse=True)\n",
    "            prob_result_sorted = list(zip(*prob_result_sorted))\n",
    "            \n",
    "            bars = ax.barh(y_pos,(prob_result_sorted[1][:5]),color='green')\n",
    "            ax.set_yticks(y_pos)\n",
    "            ax.set_yticklabels(prob_result_sorted[0][:5])\n",
    "            ax.set_xlabel(\"Probability\")"
   ]
  },
  {
   "cell_type": "markdown",
   "metadata": {},
   "source": [
    "## Construct MLP model"
   ]
  },
  {
   "cell_type": "markdown",
   "metadata": {},
   "source": [
    "### Build model"
   ]
  },
  {
   "cell_type": "code",
   "execution_count": 10,
   "metadata": {},
   "outputs": [],
   "source": [
    "inputs = Input(shape = (image_size_flat,), name='Input_image_flat')\n",
    "hidden1 = Dense(256, activation='relu', name = 'Dense1')(inputs)\n",
    "drop1 = Dropout(0.2, name = 'Dropout1')(hidden1)\n",
    "hidden2 = Dense(512, activation='relu', name = 'Dense2')(drop1)\n",
    "drop2 = Dropout(0.2, name = 'Dropout2')(hidden2)\n",
    "outputs = Dense(num_class, activation = 'softmax', name = 'Output')(drop2)\n",
    "\n",
    "model = Model(inputs = inputs, outputs = outputs)"
   ]
  },
  {
   "cell_type": "markdown",
   "metadata": {},
   "source": [
    "### Show model info"
   ]
  },
  {
   "cell_type": "code",
   "execution_count": 11,
   "metadata": {},
   "outputs": [
    {
     "name": "stdout",
     "output_type": "stream",
     "text": [
      "_________________________________________________________________\n",
      "Layer (type)                 Output Shape              Param #   \n",
      "=================================================================\n",
      "Input_image_flat (InputLayer (None, 784)               0         \n",
      "_________________________________________________________________\n",
      "Dense1 (Dense)               (None, 256)               200960    \n",
      "_________________________________________________________________\n",
      "Dropout1 (Dropout)           (None, 256)               0         \n",
      "_________________________________________________________________\n",
      "Dense2 (Dense)               (None, 512)               131584    \n",
      "_________________________________________________________________\n",
      "Dropout2 (Dropout)           (None, 512)               0         \n",
      "_________________________________________________________________\n",
      "Output (Dense)               (None, 10)                5130      \n",
      "=================================================================\n",
      "Total params: 337,674\n",
      "Trainable params: 337,674\n",
      "Non-trainable params: 0\n",
      "_________________________________________________________________\n",
      "None\n"
     ]
    }
   ],
   "source": [
    "# Show model summary\n",
    "print(model.summary())"
   ]
  },
  {
   "cell_type": "code",
   "execution_count": 12,
   "metadata": {},
   "outputs": [],
   "source": [
    "# plot model graph\n",
    "plot_model(model, to_file='mnist_mlp_v2_graph.png')"
   ]
  },
  {
   "cell_type": "markdown",
   "metadata": {},
   "source": [
    "### Compile model"
   ]
  },
  {
   "cell_type": "code",
   "execution_count": 13,
   "metadata": {},
   "outputs": [],
   "source": [
    "model.compile(\n",
    "    optimizer = RMSprop(lr = 0.001),\n",
    "    loss = 'categorical_crossentropy',\n",
    "    metrics = ['acc']\n",
    ")"
   ]
  },
  {
   "cell_type": "markdown",
   "metadata": {},
   "source": [
    "## Train model"
   ]
  },
  {
   "cell_type": "code",
   "execution_count": 14,
   "metadata": {},
   "outputs": [
    {
     "name": "stdout",
     "output_type": "stream",
     "text": [
      "Train on 42000 samples, validate on 18000 samples\n",
      "Epoch 1/10\n",
      "42000/42000 [==============================] - 5s 122us/step - loss: 0.2864 - acc: 0.9133 - val_loss: 0.1681 - val_acc: 0.9486\n",
      "Epoch 2/10\n",
      "42000/42000 [==============================] - 4s 105us/step - loss: 0.1298 - acc: 0.9609 - val_loss: 0.1354 - val_acc: 0.9592\n",
      "Epoch 3/10\n",
      "42000/42000 [==============================] - 4s 107us/step - loss: 0.0997 - acc: 0.9705 - val_loss: 0.1057 - val_acc: 0.9718\n",
      "Epoch 4/10\n",
      "42000/42000 [==============================] - 4s 106us/step - loss: 0.0823 - acc: 0.9758 - val_loss: 0.1261 - val_acc: 0.9676\n",
      "Epoch 5/10\n",
      "42000/42000 [==============================] - 4s 107us/step - loss: 0.0723 - acc: 0.9789 - val_loss: 0.0971 - val_acc: 0.9754\n",
      "Epoch 6/10\n",
      "42000/42000 [==============================] - 5s 115us/step - loss: 0.0619 - acc: 0.9825 - val_loss: 0.1242 - val_acc: 0.9727\n",
      "Epoch 7/10\n",
      "42000/42000 [==============================] - 5s 108us/step - loss: 0.0553 - acc: 0.9846 - val_loss: 0.1207 - val_acc: 0.9735\n",
      "Epoch 8/10\n",
      "42000/42000 [==============================] - 5s 109us/step - loss: 0.0523 - acc: 0.9860 - val_loss: 0.1195 - val_acc: 0.9751\n",
      "Epoch 9/10\n",
      "42000/42000 [==============================] - 5s 112us/step - loss: 0.0485 - acc: 0.9865 - val_loss: 0.1230 - val_acc: 0.9754\n",
      "Epoch 10/10\n",
      "42000/42000 [==============================] - 5s 113us/step - loss: 0.0455 - acc: 0.9878 - val_loss: 0.1252 - val_acc: 0.9760\n"
     ]
    },
    {
     "data": {
      "text/plain": [
       "<keras.callbacks.History at 0x1295089b0>"
      ]
     },
     "execution_count": 14,
     "metadata": {},
     "output_type": "execute_result"
    }
   ],
   "source": [
    "model.fit(\n",
    "    x = x_train_flat,\n",
    "    y = y_train_onehot,\n",
    "    batch_size = batch,\n",
    "    epochs = epoch,\n",
    "    validation_split = 0.3,\n",
    "    verbose = 1,\n",
    "    shuffle = True\n",
    ")"
   ]
  },
  {
   "cell_type": "markdown",
   "metadata": {},
   "source": [
    "## Evaluate model"
   ]
  },
  {
   "cell_type": "code",
   "execution_count": 15,
   "metadata": {},
   "outputs": [
    {
     "name": "stdout",
     "output_type": "stream",
     "text": [
      "10000/10000 [==============================] - 0s 39us/step\n"
     ]
    }
   ],
   "source": [
    "result = model.evaluate(\n",
    "    x=x_test_flat,\n",
    "    y=y_test_onehot,\n",
    "    batch_size=batch,\n",
    "    verbose=1,\n",
    ")"
   ]
  },
  {
   "cell_type": "code",
   "execution_count": 16,
   "metadata": {},
   "outputs": [
    {
     "name": "stdout",
     "output_type": "stream",
     "text": [
      "Test loss: 0.103196964479897\n",
      "Test accuracy: 0.9777\n"
     ]
    }
   ],
   "source": [
    "print(\"Test loss: \"+str(result[0]))\n",
    "print(\"Test accuracy: \"+str(result[1]))"
   ]
  },
  {
   "cell_type": "markdown",
   "metadata": {},
   "source": [
    "## Save model"
   ]
  },
  {
   "cell_type": "code",
   "execution_count": 17,
   "metadata": {},
   "outputs": [],
   "source": [
    "model.save('mnist_mlp_v2.h5')"
   ]
  },
  {
   "cell_type": "markdown",
   "metadata": {},
   "source": [
    "## Try loading model"
   ]
  },
  {
   "cell_type": "code",
   "execution_count": 24,
   "metadata": {},
   "outputs": [],
   "source": [
    "del model"
   ]
  },
  {
   "cell_type": "code",
   "execution_count": 26,
   "metadata": {},
   "outputs": [],
   "source": [
    "model = load_model('mnist_mlp_v2.h5')"
   ]
  },
  {
   "cell_type": "markdown",
   "metadata": {},
   "source": [
    "### Evaluate again with loaded model"
   ]
  },
  {
   "cell_type": "code",
   "execution_count": 27,
   "metadata": {},
   "outputs": [
    {
     "name": "stdout",
     "output_type": "stream",
     "text": [
      "10000/10000 [==============================] - 0s 39us/step\n"
     ]
    }
   ],
   "source": [
    "result = model.evaluate(\n",
    "    x=x_test_flat,\n",
    "    y=y_test_onehot,\n",
    "    batch_size=batch,\n",
    "    verbose=1,\n",
    ")"
   ]
  },
  {
   "cell_type": "code",
   "execution_count": 28,
   "metadata": {},
   "outputs": [
    {
     "name": "stdout",
     "output_type": "stream",
     "text": [
      "Test loss: 0.103196964479897\n",
      "Test accuracy: 0.9777\n"
     ]
    }
   ],
   "source": [
    "print(\"Test loss: \"+str(result[0]))\n",
    "print(\"Test accuracy: \"+str(result[1]))"
   ]
  }
 ],
 "metadata": {
  "kernelspec": {
   "display_name": "Python 3",
   "language": "python",
   "name": "python3"
  },
  "language_info": {
   "codemirror_mode": {
    "name": "ipython",
    "version": 3
   },
   "file_extension": ".py",
   "mimetype": "text/x-python",
   "name": "python",
   "nbconvert_exporter": "python",
   "pygments_lexer": "ipython3",
   "version": "3.6.5"
  }
 },
 "nbformat": 4,
 "nbformat_minor": 2
}
