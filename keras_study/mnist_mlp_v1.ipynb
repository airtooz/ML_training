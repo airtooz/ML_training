{
 "cells": [
  {
   "cell_type": "markdown",
   "metadata": {},
   "source": [
    "# Keras Training : Multi-Layer-Perception(MLP) on MNIST dataset _ using Sequential Model\n",
    "\n",
    "## *Features*\n",
    "\n",
    "### *# Plot example images from mnist using pyplot*\n",
    "### *# Using Sequential method to build model*\n",
    "### *# Call Tensorboard at 127.0.0.1:6006*\n",
    "### *# Plot hbar for the predicted probability for top 5 classes*\n",
    "### *# Plot and save graphs of a model using plot_model in keras.utils*\n",
    "### *# Call model.summary() to show info of model*\n",
    "\n"
   ]
  },
  {
   "cell_type": "markdown",
   "metadata": {},
   "source": [
    "## Import Libraries"
   ]
  },
  {
   "cell_type": "code",
   "execution_count": 1,
   "metadata": {},
   "outputs": [
    {
     "name": "stderr",
     "output_type": "stream",
     "text": [
      "Using TensorFlow backend.\n"
     ]
    }
   ],
   "source": [
    "import keras\n",
    "from keras.utils import to_categorical\n",
    "\n",
    "# Can plot model and save it.\n",
    "from keras.utils import plot_model\n",
    "from keras.datasets import mnist\n",
    "from keras.callbacks import TensorBoard\n",
    "\n",
    "# keras.model have two main types of models: Sequential and the Model class using functional API\n",
    "# we will focus on the sequential model in this notebook\n",
    "from keras.models import Sequential\n",
    "\n",
    "# Dense: fully connected layer\n",
    "# Activation: activation function such as relu,sigmoid,softmax...(look up Keras docs for more)\n",
    "from keras.layers import Dense, Activation, Dropout\n",
    "\n",
    "# Many optimizers can be chosen: Adagrad, RMSprop, SGD...(look up Keras docs for more)\n",
    "from keras.optimizers import Adagrad, RMSprop, SGD\n",
    "import numpy as np\n",
    "import matplotlib.pyplot as plt\n"
   ]
  },
  {
   "cell_type": "markdown",
   "metadata": {},
   "source": [
    "## Useful parameters"
   ]
  },
  {
   "cell_type": "code",
   "execution_count": 2,
   "metadata": {},
   "outputs": [],
   "source": [
    "# 10 classes\n",
    "num_class = 10\n",
    "\n",
    "# Image size: 28*28 \n",
    "image_size_flat = 784\n",
    "\n",
    "# Training batch size, default is 32\n",
    "batch = 64\n",
    "\n",
    "# Training epochs\n",
    "epoch = 10"
   ]
  },
  {
   "cell_type": "markdown",
   "metadata": {},
   "source": [
    "## Load MNIST dataset"
   ]
  },
  {
   "cell_type": "code",
   "execution_count": 3,
   "metadata": {},
   "outputs": [],
   "source": [
    "(x_train, y_train), (x_test, y_test) = mnist.load_data()\n",
    "################################################\n",
    "# Very important!!! Preprocess the image data! #\n",
    "################################################\n",
    "x_train_flat = x_train.reshape(-1,image_size_flat)\n",
    "x_train_flat = x_train_flat.astype('float32')\n",
    "x_train_flat/=255\n",
    "\n",
    "x_test_flat = x_test.reshape(-1,image_size_flat)\n",
    "x_test_flat = x_test_flat.astype('float32')\n",
    "x_test_flat/=255\n",
    "\n",
    "y_train_onehot = to_categorical(y_train,num_classes=num_class)\n",
    "y_test_onehot = to_categorical(y_test,num_classes=num_class)"
   ]
  },
  {
   "cell_type": "markdown",
   "metadata": {},
   "source": [
    "## Define useful methods"
   ]
  },
  {
   "cell_type": "code",
   "execution_count": 4,
   "metadata": {},
   "outputs": [],
   "source": [
    "def draw_image(images, y_label, y_pred = None):\n",
    "    \n",
    "    assert(len(images) == len(y_label) == 9)\n",
    "    \n",
    "    fig, axes = plt.subplots(3,3)\n",
    "    for i, ax in enumerate(axes.flat):\n",
    "        ax.imshow(images[i].reshape(28,28), cmap = 'binary')\n",
    "        \n",
    "        if y_pred is None:\n",
    "            ax.set_xlabel(\"True: \"+str(y_label[i]))\n",
    "        else:\n",
    "            ax.set_xlabel(\"True: \"+str(y_label[i])+\"  Pred: \"+str(y_pred[i]))\n",
    "        \n",
    "        ax.set_xticks([])\n",
    "        ax.set_yticks([])\n",
    "    \n",
    "    plt.show()\n",
    "        "
   ]
  },
  {
   "cell_type": "code",
   "execution_count": 5,
   "metadata": {},
   "outputs": [],
   "source": [
    "def draw_prob(images, y_label, y_prob):\n",
    "    \n",
    "    assert(len(images) == len(y_label) == 9)\n",
    "    labels = [0,1,2,3,4,5,6,7,8,9]\n",
    "    \n",
    "    fig, axes = plt.subplots(9,2,figsize=(10, 20))\n",
    "    fig.subplots_adjust(hspace=1.0, wspace=0.3)\n",
    "    \n",
    "    for i, ax in enumerate(axes.flat):\n",
    "        if i%2 == 0:\n",
    "            ax.imshow(images[int(i/2)].reshape(28,28), cmap = 'binary')\n",
    "            ax.set_xlabel(\"True: \"+str(y_label[int(i/2)]))\n",
    "            ax.set_xticks([])\n",
    "            ax.set_yticks([])\n",
    "        else:\n",
    "            index = int((i-1)/2)\n",
    "            y_pos = np.arange(5)  # Show five top probabilities\n",
    "            ans = y_label[index]  # The answer of the current image\n",
    "            probs = y_prob[index]  # List of probabilities\n",
    "            prob_result = zip(labels,probs) # (label,prob) list\n",
    "            prob_result_sorted = sorted(prob_result, key = lambda tup: tup[1], reverse=True)\n",
    "            prob_result_sorted = list(zip(*prob_result_sorted))\n",
    "            \n",
    "            bars = ax.barh(y_pos,(prob_result_sorted[1][:5]),color='green')\n",
    "            ax.set_yticks(y_pos)\n",
    "            ax.set_yticklabels(prob_result_sorted[0][:5])\n",
    "            ax.set_xlabel(\"Probability\")\n",
    "            "
   ]
  },
  {
   "cell_type": "markdown",
   "metadata": {},
   "source": [
    "## Draw some example images"
   ]
  },
  {
   "cell_type": "code",
   "execution_count": 38,
   "metadata": {},
   "outputs": [
    {
     "data": {
      "image/png": "[encoded data removed]",
      "text/plain": [
       "<Figure size 432x288 with 9 Axes>"
      ]
     },
     "metadata": {},
     "output_type": "display_data"
    }
   ],
   "source": [
    "draw_image(x_train_flat[:9], y_train[:9])"
   ]
  },
  {
   "cell_type": "markdown",
   "metadata": {},
   "source": [
    "## Construct MLP model"
   ]
  },
  {
   "cell_type": "markdown",
   "metadata": {},
   "source": [
    "### Build model"
   ]
  },
  {
   "cell_type": "code",
   "execution_count": 42,
   "metadata": {},
   "outputs": [],
   "source": [
    "model = Sequential(\n",
    "[Dense(128,input_dim=image_size_flat),\n",
    " Activation('relu'),\n",
    " Dropout(0.2),\n",
    " Dense(256),\n",
    " Activation('relu'),\n",
    " Dropout(0.2),\n",
    " Dense(num_class),\n",
    " Activation('softmax')\n",
    "])"
   ]
  },
  {
   "cell_type": "markdown",
   "metadata": {},
   "source": [
    "### Show Model Info"
   ]
  },
  {
   "cell_type": "code",
   "execution_count": 43,
   "metadata": {},
   "outputs": [
    {
     "name": "stdout",
     "output_type": "stream",
     "text": [
      "_________________________________________________________________\n",
      "Layer (type)                 Output Shape              Param #   \n",
      "=================================================================\n",
      "dense_9 (Dense)              (None, 128)               100480    \n",
      "_________________________________________________________________\n",
      "activation_10 (Activation)   (None, 128)               0         \n",
      "_________________________________________________________________\n",
      "dropout_7 (Dropout)          (None, 128)               0         \n",
      "_________________________________________________________________\n",
      "dense_10 (Dense)             (None, 256)               33024     \n",
      "_________________________________________________________________\n",
      "activation_11 (Activation)   (None, 256)               0         \n",
      "_________________________________________________________________\n",
      "dropout_8 (Dropout)          (None, 256)               0         \n",
      "_________________________________________________________________\n",
      "dense_11 (Dense)             (None, 10)                2570      \n",
      "_________________________________________________________________\n",
      "activation_12 (Activation)   (None, 10)                0         \n",
      "=================================================================\n",
      "Total params: 136,074\n",
      "Trainable params: 136,074\n",
      "Non-trainable params: 0\n",
      "_________________________________________________________________\n",
      "None\n"
     ]
    }
   ],
   "source": [
    "# Show model summary\n",
    "print(model.summary())"
   ]
  },
  {
   "cell_type": "code",
   "execution_count": 44,
   "metadata": {},
   "outputs": [],
   "source": [
    "# plot model graph\n",
    "plot_model(model, to_file='mnist_mlp_v1_graph.png')"
   ]
  },
  {
   "cell_type": "markdown",
   "metadata": {},
   "source": [
    "### Compile model"
   ]
  },
  {
   "cell_type": "code",
   "execution_count": 45,
   "metadata": {},
   "outputs": [],
   "source": [
    "model.compile(\n",
    "optimizer = Adagrad(lr=0.01,epsilon=None,decay=0.0),\n",
    "loss = 'categorical_crossentropy',\n",
    "metrics = ['acc']\n",
    ")"
   ]
  },
  {
   "cell_type": "markdown",
   "metadata": {},
   "source": [
    "## Train model"
   ]
  },
  {
   "cell_type": "code",
   "execution_count": 46,
   "metadata": {},
   "outputs": [
    {
     "name": "stdout",
     "output_type": "stream",
     "text": [
      "WARNING:tensorflow:From /usr/local/lib/python3.6/site-packages/tensorflow/contrib/learn/python/learn/datasets/base.py:198: retry (from tensorflow.contrib.learn.python.learn.datasets.base) is deprecated and will be removed in a future version.\n",
      "Instructions for updating:\n",
      "Use the retry module or similar alternatives.\n",
      "Train on 42000 samples, validate on 18000 samples\n",
      "Epoch 1/10\n",
      "42000/42000 [==============================] - 3s 68us/step - loss: 0.3104 - acc: 0.9058 - val_loss: 0.1683 - val_acc: 0.9482\n",
      "Epoch 2/10\n",
      "42000/42000 [==============================] - 3s 66us/step - loss: 0.1721 - acc: 0.9480 - val_loss: 0.1378 - val_acc: 0.9588\n",
      "Epoch 3/10\n",
      "42000/42000 [==============================] - 3s 66us/step - loss: 0.1425 - acc: 0.9580 - val_loss: 0.1223 - val_acc: 0.9636\n",
      "Epoch 4/10\n",
      "42000/42000 [==============================] - 3s 66us/step - loss: 0.1232 - acc: 0.9624 - val_loss: 0.1151 - val_acc: 0.9659\n",
      "Epoch 5/10\n",
      "42000/42000 [==============================] - 3s 71us/step - loss: 0.1080 - acc: 0.9671 - val_loss: 0.1116 - val_acc: 0.9667\n",
      "Epoch 6/10\n",
      "42000/42000 [==============================] - 3s 67us/step - loss: 0.1007 - acc: 0.9702 - val_loss: 0.1058 - val_acc: 0.9686\n",
      "Epoch 7/10\n",
      "42000/42000 [==============================] - 3s 67us/step - loss: 0.0933 - acc: 0.9715 - val_loss: 0.1016 - val_acc: 0.9699\n",
      "Epoch 8/10\n",
      "42000/42000 [==============================] - 3s 69us/step - loss: 0.0877 - acc: 0.9727 - val_loss: 0.0991 - val_acc: 0.9712\n",
      "Epoch 9/10\n",
      "42000/42000 [==============================] - 3s 70us/step - loss: 0.0812 - acc: 0.9752 - val_loss: 0.0972 - val_acc: 0.9716\n",
      "Epoch 10/10\n",
      "42000/42000 [==============================] - 3s 71us/step - loss: 0.0763 - acc: 0.9770 - val_loss: 0.0944 - val_acc: 0.9721\n"
     ]
    },
    {
     "data": {
      "text/plain": [
       "<keras.callbacks.History at 0x13d6a7780>"
      ]
     },
     "execution_count": 46,
     "metadata": {},
     "output_type": "execute_result"
    }
   ],
   "source": [
    "model.fit(\n",
    "    x = x_train_flat,\n",
    "    y = y_train_onehot,\n",
    "    batch_size = batch,\n",
    "    epochs = epoch,\n",
    "    validation_split=0.3,\n",
    "    verbose = 1,\n",
    "    shuffle=True,\n",
    "    callbacks=[TensorBoard()]\n",
    ")"
   ]
  },
  {
   "cell_type": "markdown",
   "metadata": {},
   "source": [
    "## Evaluate model"
   ]
  },
  {
   "cell_type": "code",
   "execution_count": 47,
   "metadata": {},
   "outputs": [
    {
     "name": "stdout",
     "output_type": "stream",
     "text": [
      "10000/10000 [==============================] - 0s 29us/step\n"
     ]
    }
   ],
   "source": [
    "result = model.evaluate(\n",
    "    x=x_test_flat,\n",
    "    y=y_test_onehot,\n",
    "    batch_size=batch,\n",
    "    verbose=1,\n",
    ")"
   ]
  },
  {
   "cell_type": "code",
   "execution_count": 48,
   "metadata": {},
   "outputs": [
    {
     "name": "stdout",
     "output_type": "stream",
     "text": [
      "Test loss: 0.0798269120361656\n",
      "Test accuracy: 0.9754\n"
     ]
    }
   ],
   "source": [
    "print(\"Test loss: \"+str(result[0]))\n",
    "print(\"Test accuracy: \"+str(result[1]))"
   ]
  },
  {
   "cell_type": "markdown",
   "metadata": {},
   "source": [
    "## Show some predictions"
   ]
  },
  {
   "cell_type": "code",
   "execution_count": 53,
   "metadata": {},
   "outputs": [],
   "source": [
    "# Returns a np array with probabilities for each class\n",
    "predictions = model.predict(\n",
    "    x = x_test_flat\n",
    ")"
   ]
  },
  {
   "cell_type": "code",
   "execution_count": 57,
   "metadata": {},
   "outputs": [
    {
     "data": {
      "image/png": "[encoded data removed]",
      "text/plain": [
       "<Figure size 432x288 with 9 Axes>"
      ]
     },
     "metadata": {},
     "output_type": "display_data"
    }
   ],
   "source": [
    "y_pred = np.argmax(predictions,axis=1)\n",
    "\n",
    "# Show first nine image predictions for testing data\n",
    "draw_image(x_test_flat[:9],y_test[:9],y_pred[:9])"
   ]
  },
  {
   "cell_type": "markdown",
   "metadata": {},
   "source": [
    "## Draw the top five probabilities of the examples"
   ]
  },
  {
   "cell_type": "code",
   "execution_count": 107,
   "metadata": {},
   "outputs": [
    {
     "data": {
      "image/png": "[encoded data removed]",
      "text/plain": [
       "<Figure size 720x1440 with 18 Axes>"
      ]
     },
     "metadata": {},
     "output_type": "display_data"
    }
   ],
   "source": [
    "draw_prob(x_test_flat[:9],y_test[:9],predictions[:9])"
   ]
  },
  {
   "cell_type": "code",
   "execution_count": null,
   "metadata": {},
   "outputs": [],
   "source": []
  }
 ],
 "metadata": {
  "kernelspec": {
   "display_name": "Python 3",
   "language": "python",
   "name": "python3"
  },
  "language_info": {
   "codemirror_mode": {
    "name": "ipython",
    "version": 3
   },
   "file_extension": ".py",
   "mimetype": "text/x-python",
   "name": "python",
   "nbconvert_exporter": "python",
   "pygments_lexer": "ipython3",
   "version": "3.6.5"
  }
 },
 "nbformat": 4,
 "nbformat_minor": 2
}
