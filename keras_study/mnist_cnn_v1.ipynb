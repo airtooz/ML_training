{
 "cells": [
  {
   "cell_type": "markdown",
   "metadata": {},
   "source": [
    "# Keras Training : Convolutional Nueral Network (CNN) on MNIST dataset _ using functional API"
   ]
  },
  {
   "cell_type": "markdown",
   "metadata": {},
   "source": [
    "## Import Libraries"
   ]
  },
  {
   "cell_type": "code",
   "execution_count": 34,
   "metadata": {},
   "outputs": [],
   "source": [
    "import keras\n",
    "from keras.utils import to_categorical\n",
    "\n",
    "# Can plot model and save it.\n",
    "from keras.utils import plot_model\n",
    "from keras.datasets import mnist\n",
    "\n",
    "# keras.model have two main types of models: Sequential and the Model class using functional API\n",
    "# we will focus on the functional API model in this notebook\n",
    "from keras.models import Model\n",
    "\n",
    "# Input: input layer for functional API\n",
    "# Dense: fully connected layer\n",
    "# Activation: activation function such as relu,sigmoid,softmax...(look up Keras docs for more)\n",
    "# Conv2D: cnn layer for 2D image data\n",
    "# MaxPooling2D: max pooling layer for 2D image\n",
    "from keras.layers import Input, Dense, Activation, Dropout, Flatten\n",
    "from keras.layers.convolutional import Conv2D\n",
    "from keras.layers.pooling import MaxPooling2D\n",
    "\n",
    "# Many optimizers can be chosen: Adagrad, RMSprop, SGD...(look up Keras docs for more)\n",
    "from keras.optimizers import Adagrad, RMSprop, SGD\n",
    "import numpy as np\n",
    "import matplotlib.pyplot as plt\n",
    "\n",
    "# In order to save and load model\n",
    "import h5py\n",
    "from keras.models import load_model"
   ]
  },
  {
   "cell_type": "markdown",
   "metadata": {},
   "source": [
    "## Useful parameters"
   ]
  },
  {
   "cell_type": "code",
   "execution_count": 35,
   "metadata": {},
   "outputs": [],
   "source": [
    "# 10 classes\n",
    "num_class = 10\n",
    "\n",
    "# Image size: 28*28 \n",
    "image_width = image_height = 28\n",
    "\n",
    "# Training batch size, default is 32\n",
    "batch = 64\n",
    "\n",
    "# Training epochs\n",
    "epoch = 10"
   ]
  },
  {
   "cell_type": "markdown",
   "metadata": {},
   "source": [
    "## Load MNIST dataset (Also preprocessing it!)"
   ]
  },
  {
   "cell_type": "code",
   "execution_count": 36,
   "metadata": {},
   "outputs": [],
   "source": [
    "# No flatten data! Feed CNN data should be original image shape\n",
    "\n",
    "(x_train, y_train),(x_test, y_test) = mnist.load_data()\n",
    "\n",
    "x_train = x_train.reshape(-1,image_width,image_height,1)\n",
    "x_train = x_train.astype('float32')\n",
    "x_train /= 255.0\n",
    "\n",
    "x_test = x_test.reshape(-1,image_width,image_height,1)\n",
    "x_test = x_test.astype('float32')\n",
    "x_test /= 255.0\n",
    "\n",
    "y_train_onehot = to_categorical(y_train, num_classes = num_class)\n",
    "y_test_onehot = to_categorical(y_test, num_classes = num_class)"
   ]
  },
  {
   "cell_type": "markdown",
   "metadata": {},
   "source": [
    "## Define useful methods"
   ]
  },
  {
   "cell_type": "code",
   "execution_count": 37,
   "metadata": {},
   "outputs": [],
   "source": [
    "def draw_image(images, y_label, y_pred = None):\n",
    "    \n",
    "    assert(len(images) == len(y_label) == 9)\n",
    "    \n",
    "    fig, axes = plt.subplots(3,3)\n",
    "    for i, ax in enumerate(axes.flat):\n",
    "        ax.imshow(images[i].reshape(28,28), cmap = 'binary')\n",
    "        \n",
    "        if y_pred is None:\n",
    "            ax.set_xlabel(\"True: \"+str(y_label[i]))\n",
    "        else:\n",
    "            ax.set_xlabel(\"True: \"+str(y_label[i])+\"  Pred: \"+str(y_pred[i]))\n",
    "        \n",
    "        ax.set_xticks([])\n",
    "        ax.set_yticks([])\n",
    "    \n",
    "    plt.show()"
   ]
  },
  {
   "cell_type": "code",
   "execution_count": 38,
   "metadata": {},
   "outputs": [],
   "source": [
    "def draw_prob(images, y_label, y_prob):\n",
    "    \n",
    "    assert(len(images) == len(y_label) == 9)\n",
    "    labels = [0,1,2,3,4,5,6,7,8,9]\n",
    "    \n",
    "    fig, axes = plt.subplots(9,2,figsize=(10, 20))\n",
    "    fig.subplots_adjust(hspace=1.0, wspace=0.3)\n",
    "    \n",
    "    for i, ax in enumerate(axes.flat):\n",
    "        if i%2 == 0:\n",
    "            ax.imshow(images[int(i/2)].reshape(28,28), cmap = 'binary')\n",
    "            ax.set_xlabel(\"True: \"+str(y_label[int(i/2)]))\n",
    "            ax.set_xticks([])\n",
    "            ax.set_yticks([])\n",
    "        else:\n",
    "            index = int((i-1)/2)\n",
    "            y_pos = np.arange(5)  # Show five top probabilities\n",
    "            ans = y_label[index]  # The answer of the current image\n",
    "            probs = y_prob[index]  # List of probabilities\n",
    "            prob_result = zip(labels,probs) # (label,prob) list\n",
    "            prob_result_sorted = sorted(prob_result, key = lambda tup: tup[1], reverse=True)\n",
    "            prob_result_sorted = list(zip(*prob_result_sorted))\n",
    "            \n",
    "            bars = ax.barh(y_pos,(prob_result_sorted[1][:5]),color='green')\n",
    "            ax.set_yticks(y_pos)\n",
    "            ax.set_yticklabels(prob_result_sorted[0][:5])\n",
    "            ax.set_xlabel(\"Probability\")"
   ]
  },
  {
   "cell_type": "code",
   "execution_count": 49,
   "metadata": {},
   "outputs": [],
   "source": [
    "# Define convolutional model here\n",
    "def cnn_model(image_width, num_class):\n",
    "    # Input is the shape of one image\n",
    "    inputs = Input(shape = (image_width,image_width,1))\n",
    "    conv1 = Conv2D(filters = 32, kernel_size = 5, strides = (2,2), activation = 'relu', name = 'Conv1', data_format = 'channels_last')(inputs)\n",
    "    pool1 = MaxPooling2D(pool_size=(2,2), name = 'Pool1')(conv1)\n",
    "    conv2 = Conv2D(filters = 16, kernel_size = 3, strides = (1,1), activation = 'relu', name = 'Conv2', data_format = 'channels_last')(pool1)\n",
    "    pool2 = MaxPooling2D(pool_size=(2,2), name = 'Pool2')(conv2)\n",
    "    flat = Flatten(name = 'Flat')(pool2)\n",
    "    outputs = Dense(num_class, activation = 'softmax', name = 'Output')(flat)\n",
    "    \n",
    "    model = Model(inputs = inputs, outputs = outputs)\n",
    "    model.compile(\n",
    "        optimizer = RMSprop(lr = 0.001),\n",
    "        loss = 'categorical_crossentropy',\n",
    "        metrics = ['acc']\n",
    "    )\n",
    "    return model"
   ]
  },
  {
   "cell_type": "markdown",
   "metadata": {},
   "source": [
    "## Construct CNN model"
   ]
  },
  {
   "cell_type": "markdown",
   "metadata": {},
   "source": [
    "### Build model"
   ]
  },
  {
   "cell_type": "code",
   "execution_count": 50,
   "metadata": {},
   "outputs": [],
   "source": [
    "model = cnn_model(image_width, num_class)"
   ]
  },
  {
   "cell_type": "markdown",
   "metadata": {},
   "source": [
    "### Show model info"
   ]
  },
  {
   "cell_type": "code",
   "execution_count": 51,
   "metadata": {},
   "outputs": [
    {
     "name": "stdout",
     "output_type": "stream",
     "text": [
      "_________________________________________________________________\n",
      "Layer (type)                 Output Shape              Param #   \n",
      "=================================================================\n",
      "input_4 (InputLayer)         (None, 28, 28, 1)         0         \n",
      "_________________________________________________________________\n",
      "Conv1 (Conv2D)               (None, 12, 12, 32)        832       \n",
      "_________________________________________________________________\n",
      "Pool1 (MaxPooling2D)         (None, 6, 6, 32)          0         \n",
      "_________________________________________________________________\n",
      "Conv2 (Conv2D)               (None, 4, 4, 16)          4624      \n",
      "_________________________________________________________________\n",
      "Pool2 (MaxPooling2D)         (None, 2, 2, 16)          0         \n",
      "_________________________________________________________________\n",
      "Flat (Flatten)               (None, 64)                0         \n",
      "_________________________________________________________________\n",
      "Output (Dense)               (None, 10)                650       \n",
      "=================================================================\n",
      "Total params: 6,106\n",
      "Trainable params: 6,106\n",
      "Non-trainable params: 0\n",
      "_________________________________________________________________\n",
      "None\n"
     ]
    }
   ],
   "source": [
    "print(model.summary())"
   ]
  },
  {
   "cell_type": "code",
   "execution_count": 52,
   "metadata": {},
   "outputs": [],
   "source": [
    "# plot model graph\n",
    "plot_model(model, to_file='mnist_cnn_v1_graph.png')"
   ]
  },
  {
   "cell_type": "markdown",
   "metadata": {},
   "source": [
    "## Train model"
   ]
  },
  {
   "cell_type": "code",
   "execution_count": 53,
   "metadata": {},
   "outputs": [
    {
     "name": "stdout",
     "output_type": "stream",
     "text": [
      "Train on 42000 samples, validate on 18000 samples\n",
      "Epoch 1/10\n",
      "42000/42000 [==============================] - 7s 173us/step - loss: 0.5306 - acc: 0.8461 - val_loss: 0.2353 - val_acc: 0.9271\n",
      "Epoch 2/10\n",
      "42000/42000 [==============================] - 7s 166us/step - loss: 0.1687 - acc: 0.9495 - val_loss: 0.1728 - val_acc: 0.9463\n",
      "Epoch 3/10\n",
      "42000/42000 [==============================] - 7s 166us/step - loss: 0.1239 - acc: 0.9619 - val_loss: 0.1167 - val_acc: 0.9649\n",
      "Epoch 4/10\n",
      "42000/42000 [==============================] - 7s 167us/step - loss: 0.1001 - acc: 0.9686 - val_loss: 0.0991 - val_acc: 0.9699\n",
      "Epoch 5/10\n",
      "42000/42000 [==============================] - 7s 167us/step - loss: 0.0844 - acc: 0.9730 - val_loss: 0.1098 - val_acc: 0.9661\n",
      "Epoch 6/10\n",
      "42000/42000 [==============================] - 7s 169us/step - loss: 0.0743 - acc: 0.9772 - val_loss: 0.0875 - val_acc: 0.9725\n",
      "Epoch 7/10\n",
      "42000/42000 [==============================] - 7s 167us/step - loss: 0.0666 - acc: 0.9789 - val_loss: 0.0770 - val_acc: 0.9761\n",
      "Epoch 8/10\n",
      "42000/42000 [==============================] - 7s 168us/step - loss: 0.0601 - acc: 0.9810 - val_loss: 0.0772 - val_acc: 0.9764\n",
      "Epoch 9/10\n",
      "42000/42000 [==============================] - 7s 169us/step - loss: 0.0549 - acc: 0.9830 - val_loss: 0.0733 - val_acc: 0.9761\n",
      "Epoch 10/10\n",
      "42000/42000 [==============================] - 7s 170us/step - loss: 0.0504 - acc: 0.9840 - val_loss: 0.0681 - val_acc: 0.9789\n"
     ]
    },
    {
     "data": {
      "text/plain": [
       "<keras.callbacks.History at 0x10d28ee10>"
      ]
     },
     "execution_count": 53,
     "metadata": {},
     "output_type": "execute_result"
    }
   ],
   "source": [
    "model.fit(\n",
    "    x = x_train,\n",
    "    y = y_train_onehot,\n",
    "    batch_size = batch,\n",
    "    epochs = epoch,\n",
    "    validation_split = 0.3,\n",
    "    verbose = 1,\n",
    "    shuffle = True\n",
    ")"
   ]
  },
  {
   "cell_type": "markdown",
   "metadata": {},
   "source": [
    "## Evaluate model"
   ]
  },
  {
   "cell_type": "code",
   "execution_count": 54,
   "metadata": {},
   "outputs": [
    {
     "name": "stdout",
     "output_type": "stream",
     "text": [
      "10000/10000 [==============================] - 1s 61us/step\n"
     ]
    }
   ],
   "source": [
    "result = model.evaluate(\n",
    "    x=x_test,\n",
    "    y=y_test_onehot,\n",
    "    batch_size=batch,\n",
    "    verbose=1,\n",
    ")"
   ]
  },
  {
   "cell_type": "code",
   "execution_count": 55,
   "metadata": {},
   "outputs": [
    {
     "name": "stdout",
     "output_type": "stream",
     "text": [
      "Test loss: 0.04969900945005938\n",
      "Test accuracy: 0.9836\n"
     ]
    }
   ],
   "source": [
    "print(\"Test loss: \"+str(result[0]))\n",
    "print(\"Test accuracy: \"+str(result[1]))"
   ]
  },
  {
   "cell_type": "code",
   "execution_count": 56,
   "metadata": {},
   "outputs": [],
   "source": [
    "# Returns a np array with probabilities for each class\n",
    "predictions = model.predict(\n",
    "    x = x_test\n",
    ")"
   ]
  },
  {
   "cell_type": "code",
   "execution_count": 57,
   "metadata": {},
   "outputs": [
    {
     "data": {
      "image/png": "[encoded data removed]",
      "text/plain": [
       "<Figure size 432x288 with 9 Axes>"
      ]
     },
     "metadata": {},
     "output_type": "display_data"
    }
   ],
   "source": [
    "y_pred = np.argmax(predictions,axis=1)\n",
    "\n",
    "# Show first nine image predictions for testing data\n",
    "draw_image(x_test[:9],y_test[:9],y_pred[:9])"
   ]
  },
  {
   "cell_type": "code",
   "execution_count": 58,
   "metadata": {},
   "outputs": [
    {
     "data": {
      "image/png": "[encoded data removed]",
      "text/plain": [
       "<Figure size 720x1440 with 18 Axes>"
      ]
     },
     "metadata": {},
     "output_type": "display_data"
    }
   ],
   "source": [
    "draw_prob(x_test[:9],y_test[:9],predictions[:9])"
   ]
  },
  {
   "cell_type": "code",
   "execution_count": null,
   "metadata": {},
   "outputs": [],
   "source": []
  }
 ],
 "metadata": {
  "kernelspec": {
   "display_name": "Python 3",
   "language": "python",
   "name": "python3"
  },
  "language_info": {
   "codemirror_mode": {
    "name": "ipython",
    "version": 3
   },
   "file_extension": ".py",
   "mimetype": "text/x-python",
   "name": "python",
   "nbconvert_exporter": "python",
   "pygments_lexer": "ipython3",
   "version": "3.6.5"
  }
 },
 "nbformat": 4,
 "nbformat_minor": 2
}
